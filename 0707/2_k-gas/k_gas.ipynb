{
 "cells": [
  {
   "cell_type": "code",
   "execution_count": 5,
   "metadata": {},
   "outputs": [],
   "source": [
    "import os\n",
    "import pandas as pd"
   ]
  },
  {
   "attachments": {},
   "cell_type": "markdown",
   "metadata": {},
   "source": [
    "# 1. Data Load\n",
    "\n",
    "- setting the data path\n",
    "- load the data with **pandas**"
   ]
  },
  {
   "cell_type": "code",
   "execution_count": 6,
   "metadata": {},
   "outputs": [],
   "source": [
    "data_dir = '../data/'\n",
    "k_gas_dir = os.path.join(data_dir, 'k-gas') # k-gas data directory\n",
    "k_gas_df = pd.read_csv(os.path.join(k_gas_dir, 'Gas sales with temperature.csv'))"
   ]
  },
  {
   "attachments": {},
   "cell_type": "markdown",
   "metadata": {},
   "source": [
    "## show the data"
   ]
  },
  {
   "cell_type": "code",
   "execution_count": 7,
   "metadata": {},
   "outputs": [
    {
     "name": "stdout",
     "output_type": "stream",
     "text": [
      "k-gas data shape:  (252, 21)\n",
      "\n",
      "k-gas data columns:  Index(['Year', 'Month', 'Temperature', 'Gangwondo', 'Seoul', 'Gyeonggido',\n",
      "       'Incheon', 'Gyeongsangnamdo', 'Gyeongsangbukdo', 'Gwangju', 'Daegu',\n",
      "       'Daejeon', 'Busan', 'Sejong', 'Ulsan', 'Jeollanamdo', 'Jeollabukdo',\n",
      "       'Jeju', 'Chungcheongnamdo', 'Chungcheongbukdo', 'Sum'],\n",
      "      dtype='object')\n",
      "\n",
      "k-gas data head:     Year  Month  Temperature  Gangwondo   Seoul  Gyeonggido  Incheon  \\\n",
      "0  2000      1        -1.20      16219  662424      363014   139454   \n",
      "1  2000      2        -0.99      16280  689177      375937   145834   \n",
      "2  2000      3         6.64      14105  566528      323145   121324   \n",
      "3  2000      4        12.11      10364  396231      237437    91421   \n",
      "4  2000      5        17.59       6843  262940      169495    67239   \n",
      "\n",
      "   Gyeongsangnamdo  Gyeongsangbukdo  Gwangju  ...  Daejeon  Busan  Sejong  \\\n",
      "0            42129            55362    39465  ...    52992  85787       0   \n",
      "1            42604            52863    40674  ...    53950  87282       0   \n",
      "2            35990            47282    34610  ...    41898  74476       0   \n",
      "3            28698            40393    25898  ...    28618  58316       0   \n",
      "4            21073            35083    18426  ...    17503  45915       0   \n",
      "\n",
      "   Ulsan  Jeollanamdo  Jeollabukdo  Jeju  Chungcheongnamdo  Chungcheongbukdo  \\\n",
      "0  69241        22508        34507     0             20158             27838   \n",
      "1  70910        22310        33784     0             23492             27175   \n",
      "2  63627        18033        29315     0             21156             22904   \n",
      "3  47106        15920        19783     0             17447             16818   \n",
      "4  43749        13808        14375     0             14508             12299   \n",
      "\n",
      "       Sum  \n",
      "0  1717175  \n",
      "1  1766341  \n",
      "2  1490537  \n",
      "3  1096964  \n",
      "4   790248  \n",
      "\n",
      "[5 rows x 21 columns]\n"
     ]
    }
   ],
   "source": [
    "print('k-gas data shape: ', k_gas_df.shape)\n",
    "print()\n",
    "print('k-gas data columns: ', k_gas_df.columns)\n",
    "print()\n",
    "print('k-gas data head: ', k_gas_df.head())"
   ]
  },
  {
   "attachments": {},
   "cell_type": "markdown",
   "metadata": {},
   "source": [
    "# 2. Split the data based on **your purpose**\n",
    "\n",
    "- This dataset is sequential data, so we need to split the data based on `Year`.\n",
    "\n",
    "- So, I split the data based on `Year`."
   ]
  },
  {
   "cell_type": "code",
   "execution_count": 8,
   "metadata": {},
   "outputs": [],
   "source": [
    "# Create train, validation, and test sets\n",
    "train_df = k_gas_df[k_gas_df['Year'] < 2018]\n",
    "val_df = k_gas_df[k_gas_df['Year'].isin([2018, 2019])]\n",
    "test_df = k_gas_df[k_gas_df['Year'] == 2020]"
   ]
  },
  {
   "attachments": {},
   "cell_type": "markdown",
   "metadata": {},
   "source": [
    "# 3. Make the Model\n",
    "\n",
    "- import torch library"
   ]
  },
  {
   "cell_type": "code",
   "execution_count": 9,
   "metadata": {},
   "outputs": [],
   "source": [
    "import torch\n",
    "import torch.nn as nn\n",
    "import torch.optim as optim"
   ]
  },
  {
   "attachments": {},
   "cell_type": "markdown",
   "metadata": {},
   "source": [
    "- We will use **MLP** model."
   ]
  },
  {
   "cell_type": "code",
   "execution_count": 10,
   "metadata": {},
   "outputs": [],
   "source": [
    "# Define the MLP model\n",
    "class My_MLP(nn.Module):\n",
    "    def __init__(self, input_size, hidden_size, output_size):\n",
    "        super(My_MLP, self).__init__()\n",
    "        self.fc1 = nn.Linear(input_size, hidden_size)\n",
    "        self.bn1 = nn.BatchNorm1d(hidden_size)\n",
    "        self.fc2 = nn.Linear(hidden_size, output_size)\n",
    "\n",
    "    def forward(self, x):\n",
    "        x = self.fc1(x)\n",
    "        x = self.bn1(x)\n",
    "        x = torch.relu(x)\n",
    "        x = self.fc2(x)\n",
    "        return x"
   ]
  },
  {
   "attachments": {},
   "cell_type": "markdown",
   "metadata": {},
   "source": [
    "- set the **hyper-parameters**"
   ]
  },
  {
   "cell_type": "code",
   "execution_count": 11,
   "metadata": {},
   "outputs": [],
   "source": [
    "features = ['Gangwondo', 'Seoul', 'Gyeonggido', 'Incheon', 'Gyeongsangnamdo', 'Gyeongsangbukdo', 'Gwangju', 'Daegu', 'Daejeon', 'Busan', 'Sejong', 'Ulsan', 'Jeollanamdo', 'Jeollabukdo', 'Jeju', 'Chungcheongnamdo', 'Chungcheongbukdo']"
   ]
  },
  {
   "cell_type": "code",
   "execution_count": 12,
   "metadata": {},
   "outputs": [],
   "source": [
    "input_size = len(features)  # number of features\n",
    "hidden_size = 50  # size of hidden state of RNN\n",
    "output_size = 1  # output size\n",
    "learning_rate = 0.001\n",
    "batch_size = 8"
   ]
  },
  {
   "attachments": {},
   "cell_type": "markdown",
   "metadata": {},
   "source": [
    "- Check your `My_MLP` model"
   ]
  },
  {
   "cell_type": "code",
   "execution_count": 13,
   "metadata": {},
   "outputs": [],
   "source": [
    "model = My_MLP(input_size, hidden_size, output_size)"
   ]
  },
  {
   "cell_type": "code",
   "execution_count": 14,
   "metadata": {},
   "outputs": [
    {
     "name": "stdout",
     "output_type": "stream",
     "text": [
      "My_MLP(\n",
      "  (fc1): Linear(in_features=17, out_features=50, bias=True)\n",
      "  (bn1): BatchNorm1d(50, eps=1e-05, momentum=0.1, affine=True, track_running_stats=True)\n",
      "  (fc2): Linear(in_features=50, out_features=1, bias=True)\n",
      ")\n"
     ]
    }
   ],
   "source": [
    "print(model)"
   ]
  },
  {
   "attachments": {},
   "cell_type": "markdown",
   "metadata": {},
   "source": [
    "- Loss and Optimizer"
   ]
  },
  {
   "cell_type": "code",
   "execution_count": 15,
   "metadata": {},
   "outputs": [],
   "source": [
    "criterion = nn.MSELoss()\n",
    "optimizer = optim.Adam(model.parameters(), lr=learning_rate)"
   ]
  },
  {
   "attachments": {},
   "cell_type": "markdown",
   "metadata": {},
   "source": [
    "# 3. Data Pre-processing (Cusmtom Dataset)"
   ]
  },
  {
   "attachments": {},
   "cell_type": "markdown",
   "metadata": {},
   "source": [
    "- A Year is 12 months, so I need to split the data based on `Month`.\n",
    "\n",
    "- I split the data based on `Month`."
   ]
  },
  {
   "cell_type": "code",
   "execution_count": 16,
   "metadata": {},
   "outputs": [],
   "source": [
    "from torch.utils.data import TensorDataset, DataLoader"
   ]
  },
  {
   "attachments": {},
   "cell_type": "markdown",
   "metadata": {},
   "source": [
    "- Each data, we will adapt the `create_sequence` function."
   ]
  },
  {
   "attachments": {},
   "cell_type": "markdown",
   "metadata": {},
   "source": [
    "## Convert the data to **torch tensor**."
   ]
  },
  {
   "cell_type": "code",
   "execution_count": 18,
   "metadata": {},
   "outputs": [],
   "source": [
    "X_train_tensor = torch.tensor(x_train).float()\n",
    "y_train_tensor = torch.tensor(y_train).float()"
   ]
  },
  {
   "cell_type": "code",
   "execution_count": 19,
   "metadata": {},
   "outputs": [
    {
     "name": "stdout",
     "output_type": "stream",
     "text": [
      "X_train_tensor shape:  torch.Size([216, 17])\n",
      "Y_train_tensor shape:  torch.Size([216])\n"
     ]
    }
   ],
   "source": [
    "print('X_train_tensor shape: ', X_train_tensor.shape)\n",
    "print('Y_train_tensor shape: ', y_train_tensor.shape)"
   ]
  },
  {
   "cell_type": "code",
   "execution_count": 20,
   "metadata": {},
   "outputs": [],
   "source": [
    "X_val_tensor = torch.tensor(x_val).float()"
   ]
  },
  {
   "cell_type": "code",
   "execution_count": 21,
   "metadata": {},
   "outputs": [
    {
     "name": "stdout",
     "output_type": "stream",
     "text": [
      "X_val_tensor shape:  torch.Size([24, 17])\n",
      "Y_val_tensor shape:  torch.Size([24])\n"
     ]
    }
   ],
   "source": [
    "print('X_val_tensor shape: ', X_val_tensor.shape)\n",
    "print('Y_val_tensor shape: ', Y_val_tensor.shape)"
   ]
  },
  {
   "cell_type": "code",
   "execution_count": 22,
   "metadata": {},
   "outputs": [],
   "source": [
    "X_test_tensor = torch.tensor(x_test).float()\n",
    "Y_test_tensor = torch.tensor(y_test).float()"
   ]
  },
  {
   "cell_type": "code",
   "execution_count": 23,
   "metadata": {},
   "outputs": [
    {
     "name": "stdout",
     "output_type": "stream",
     "text": [
      "X_test_tensor shape:  torch.Size([12, 17])\n",
      "Y_test_tensor shape:  torch.Size([12])\n"
     ]
    }
   ],
   "source": [
    "print('X_test_tensor shape: ', X_test_tensor.shape)\n",
    "print('Y_test_tensor shape: ', Y_test_tensor.shape)"
   ]
  },
  {
   "attachments": {},
   "cell_type": "markdown",
   "metadata": {},
   "source": [
    "# 5. Data Loader"
   ]
  },
  {
   "attachments": {},
   "cell_type": "markdown",
   "metadata": {},
   "source": [
    "- Check the data shape."
   ]
  },
  {
   "cell_type": "code",
   "execution_count": 24,
   "metadata": {},
   "outputs": [
    {
     "name": "stdout",
     "output_type": "stream",
     "text": [
      "X_train_tensor shape:  torch.Size([216, 17])\n",
      "X_val_tensor shape:  torch.Size([24, 17])\n",
      "X_test_tensor shape:  torch.Size([12, 17])\n"
     ]
    }
   ],
   "source": [
    "print('X_train_tensor shape: ', X_train_tensor.shape)\n",
    "print('X_val_tensor shape: ', X_val_tensor.shape)\n",
    "print('X_test_tensor shape: ', X_test_tensor.shape)"
   ]
  },
  {
   "attachments": {},
   "cell_type": "markdown",
   "metadata": {},
   "source": [
    "## Create TensorDatasets\n",
    "\n",
    "- We will use **TensorDataset** directly. Because, we already converted DataFrame to tensor and for using *mini-Batch*.\n",
    "\n",
    "- But, In practice, we need to make **Custom Dataset** like 'GasDataset'."
   ]
  },
  {
   "cell_type": "code",
   "execution_count": 25,
   "metadata": {},
   "outputs": [],
   "source": [
    "train_data = TensorDataset(X_train_tensor, y_train_tensor)\n",
    "val_data = TensorDataset(X_val_tensor, Y_val_tensor)\n",
    "test_data = TensorDataset(X_test_tensor, Y_test_tensor)"
   ]
  },
  {
   "attachments": {},
   "cell_type": "markdown",
   "metadata": {},
   "source": [
    "## Create DataLoader"
   ]
  },
  {
   "cell_type": "code",
   "execution_count": 26,
   "metadata": {},
   "outputs": [],
   "source": [
    "train_loader = DataLoader(train_data, shuffle=True, batch_size=batch_size)\n",
    "val_loader = DataLoader(val_data, shuffle=False, batch_size=batch_size)\n",
    "test_loader = DataLoader(test_data, shuffle=False, batch_size=batch_size)"
   ]
  },
  {
   "attachments": {},
   "cell_type": "markdown",
   "metadata": {},
   "source": [
    "# 6. Training and Evaluation"
   ]
  },
  {
   "cell_type": "code",
   "execution_count": 27,
   "metadata": {},
   "outputs": [
    {
     "name": "stdout",
     "output_type": "stream",
     "text": [
      "Epoch 100 | Train Loss: 2.3675618171691895 | Validation Loss: 13.211014032363892\n",
      "Epoch 200 | Train Loss: 10.703320503234863 | Validation Loss: 6.323081175486247\n",
      "Epoch 300 | Train Loss: 3.464829683303833 | Validation Loss: 5.621517260869344\n",
      "Epoch 400 | Train Loss: 18.29298973083496 | Validation Loss: 9.035704294840494\n",
      "Epoch 500 | Train Loss: 3.0756070613861084 | Validation Loss: 11.997018496195475\n",
      "Epoch 600 | Train Loss: 6.984744071960449 | Validation Loss: 15.576728185017904\n",
      "Epoch 700 | Train Loss: 17.257841110229492 | Validation Loss: 6.588147163391113\n",
      "Epoch 800 | Train Loss: 47.46575164794922 | Validation Loss: 10.206048647562662\n",
      "Epoch 900 | Train Loss: 9.024078369140625 | Validation Loss: 6.076721111933391\n",
      "Epoch 1000 | Train Loss: 3.566286087036133 | Validation Loss: 8.063810110092163\n"
     ]
    }
   ],
   "source": [
    "# Training\n",
    "for epoch in range(1000):  # number of epochs\n",
    "    for inputs, labels in train_loader:\n",
    "        model.train()\n",
    "        optimizer.zero_grad()\n",
    "        y_pred = model(inputs)\n",
    "        loss = criterion(y_pred.squeeze(), labels)\n",
    "        loss.backward()\n",
    "        optimizer.step()\n",
    "\n",
    "    # Evaluation\n",
    "    if (epoch+1) % 100 == 0:\n",
    "        model.eval()\n",
    "        with torch.no_grad():\n",
    "            val_losses = []\n",
    "            for inputs, labels in val_loader:\n",
    "                y_pred_val = model(inputs)\n",
    "                val_loss = criterion(y_pred_val.squeeze(), labels)\n",
    "                val_losses.append(val_loss.item())\n",
    "        print(f'Epoch {epoch+1} | Train Loss: {loss.item()} | Validation Loss: {sum(val_losses) / len(val_losses)}')\n",
    "\n"
   ]
  },
  {
   "cell_type": "code",
   "execution_count": 28,
   "metadata": {},
   "outputs": [
    {
     "name": "stdout",
     "output_type": "stream",
     "text": [
      "Test Loss: 37.465203285217285\n"
     ]
    }
   ],
   "source": [
    "# Testing\n",
    "model.eval()\n",
    "with torch.no_grad():\n",
    "    test_losses = []\n",
    "    for inputs, labels in test_loader:\n",
    "        y_pred_test = model(inputs)\n",
    "        test_loss = criterion(y_pred_test.squeeze(), labels)\n",
    "        test_losses.append(test_loss.item())\n",
    "print(f'Test Loss: {sum(test_losses) / len(test_losses)}')"
   ]
  }
 ],
 "metadata": {
  "kernelspec": {
   "display_name": "mlcl",
   "language": "python",
   "name": "python3"
  },
  "language_info": {
   "codemirror_mode": {
    "name": "ipython",
    "version": 3
   },
   "file_extension": ".py",
   "mimetype": "text/x-python",
   "name": "python",
   "nbconvert_exporter": "python",
   "pygments_lexer": "ipython3",
   "version": "3.8.16"
  },
  "orig_nbformat": 4
 },
 "nbformat": 4,
 "nbformat_minor": 2
}
