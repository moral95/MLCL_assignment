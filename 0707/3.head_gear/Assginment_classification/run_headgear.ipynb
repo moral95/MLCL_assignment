{
 "cells": [
  {
   "cell_type": "code",
   "execution_count": 2,
   "metadata": {},
   "outputs": [
    {
     "name": "stdout",
     "output_type": "stream",
     "text": [
      "We used the (cuda:2\n",
      "train length : 3620\n",
      "valid length : 100\n",
      "<torch.utils.data.dataloader.DataLoader object at 0x7fe3d752b820>\n",
      "100%|███████████████████████████████████████████| 29/29 [00:18<00:00,  1.53it/s]\n",
      "Epoch: 1/10.. Training Loss: 2.5855.. Training Accuracy: 22.29%.. Training F1 Score: 0.18\n",
      "Epoch: 1/10.. Validation Loss: 2.9940.. Validation Accuracy: 7.00%.. Validation F1 Score: 0.02\n",
      "<torch.utils.data.dataloader.DataLoader object at 0x7fe3d752b820>\n",
      "100%|███████████████████████████████████████████| 29/29 [00:15<00:00,  1.82it/s]\n",
      "Epoch: 2/10.. Training Loss: 2.3454.. Training Accuracy: 29.12%.. Training F1 Score: 0.25\n",
      "Epoch: 2/10.. Validation Loss: 2.4409.. Validation Accuracy: 23.00%.. Validation F1 Score: 0.20\n",
      "<torch.utils.data.dataloader.DataLoader object at 0x7fe3d752b820>\n",
      "100%|███████████████████████████████████████████| 29/29 [00:15<00:00,  1.82it/s]\n",
      "Epoch: 3/10.. Training Loss: 2.2532.. Training Accuracy: 31.85%.. Training F1 Score: 0.28\n",
      "Epoch: 3/10.. Validation Loss: 2.3042.. Validation Accuracy: 29.00%.. Validation F1 Score: 0.24\n",
      "<torch.utils.data.dataloader.DataLoader object at 0x7fe3d752b820>\n",
      "100%|███████████████████████████████████████████| 29/29 [00:16<00:00,  1.80it/s]\n",
      "Epoch: 4/10.. Training Loss: 2.1880.. Training Accuracy: 32.96%.. Training F1 Score: 0.29\n",
      "Epoch: 4/10.. Validation Loss: 2.2394.. Validation Accuracy: 34.00%.. Validation F1 Score: 0.31\n",
      "<torch.utils.data.dataloader.DataLoader object at 0x7fe3d752b820>\n",
      "100%|███████████████████████████████████████████| 29/29 [00:15<00:00,  1.85it/s]\n",
      "Epoch: 5/10.. Training Loss: 2.1409.. Training Accuracy: 34.28%.. Training F1 Score: 0.30\n",
      "Epoch: 5/10.. Validation Loss: 2.2863.. Validation Accuracy: 28.00%.. Validation F1 Score: 0.24\n",
      "<torch.utils.data.dataloader.DataLoader object at 0x7fe3d752b820>\n",
      "100%|███████████████████████████████████████████| 29/29 [00:15<00:00,  1.90it/s]\n",
      "Epoch: 6/10.. Training Loss: 2.1107.. Training Accuracy: 34.81%.. Training F1 Score: 0.32\n",
      "Epoch: 6/10.. Validation Loss: 2.2337.. Validation Accuracy: 34.00%.. Validation F1 Score: 0.30\n",
      "<torch.utils.data.dataloader.DataLoader object at 0x7fe3d752b820>\n",
      "100%|███████████████████████████████████████████| 29/29 [00:18<00:00,  1.55it/s]\n",
      "Epoch: 7/10.. Training Loss: 2.0888.. Training Accuracy: 35.69%.. Training F1 Score: 0.31\n",
      "Epoch: 7/10.. Validation Loss: 2.1948.. Validation Accuracy: 31.00%.. Validation F1 Score: 0.28\n",
      "<torch.utils.data.dataloader.DataLoader object at 0x7fe3d752b820>\n",
      "100%|███████████████████████████████████████████| 29/29 [00:15<00:00,  1.87it/s]\n",
      "Epoch: 8/10.. Training Loss: 2.0761.. Training Accuracy: 34.94%.. Training F1 Score: 0.31\n",
      "Epoch: 8/10.. Validation Loss: 2.1900.. Validation Accuracy: 34.00%.. Validation F1 Score: 0.30\n",
      "<torch.utils.data.dataloader.DataLoader object at 0x7fe3d752b820>\n",
      "100%|███████████████████████████████████████████| 29/29 [00:22<00:00,  1.31it/s]\n",
      "Epoch: 9/10.. Training Loss: 2.0468.. Training Accuracy: 36.63%.. Training F1 Score: 0.33\n",
      "Epoch: 9/10.. Validation Loss: 2.2350.. Validation Accuracy: 32.00%.. Validation F1 Score: 0.30\n",
      "<torch.utils.data.dataloader.DataLoader object at 0x7fe3d752b820>\n",
      "100%|███████████████████████████████████████████| 29/29 [00:15<00:00,  1.91it/s]\n",
      "Epoch: 10/10.. Training Loss: 2.0171.. Training Accuracy: 37.65%.. Training F1 Score: 0.34\n",
      "Epoch: 10/10.. Validation Loss: 2.2505.. Validation Accuracy: 36.00%.. Validation F1 Score: 0.34\n"
     ]
    }
   ],
   "source": [
    "!python training_2.py"
   ]
  },
  {
   "cell_type": "code",
   "execution_count": 4,
   "metadata": {},
   "outputs": [
    {
     "name": "stdout",
     "output_type": "stream",
     "text": [
      "test length : 100\n",
      "Traceback (most recent call last):\n",
      "  File \"/NasData/home/lsh/mlcl/MLCL_2023/3_headgear/Assginment_classification/test.py\", line 61, in <module>\n",
      "    test(config)\n",
      "  File \"/NasData/home/lsh/mlcl/MLCL_2023/3_headgear/Assginment_classification/test.py\", line 24, in test\n",
      "    model.load_state_dict(torch.load(config['paths']['model_save_path']))\n",
      "  File \"/NasData/home/lsh/anaconda3/envs/NewG/lib/python3.9/site-packages/torch/serialization.py\", line 791, in load\n",
      "    with _open_file_like(f, 'rb') as opened_file:\n",
      "  File \"/NasData/home/lsh/anaconda3/envs/NewG/lib/python3.9/site-packages/torch/serialization.py\", line 271, in _open_file_like\n",
      "    return _open_file(name_or_buffer, mode)\n",
      "  File \"/NasData/home/lsh/anaconda3/envs/NewG/lib/python3.9/site-packages/torch/serialization.py\", line 252, in __init__\n",
      "    super().__init__(open(name, mode))\n",
      "FileNotFoundError: [Errno 2] No such file or directory: './model/resnet50.pth'\n"
     ]
    }
   ],
   "source": [
    "!python test.py"
   ]
  },
  {
   "cell_type": "code",
   "execution_count": null,
   "metadata": {},
   "outputs": [],
   "source": [
    "!python test.py \n",
    "# dataset.__len__ : len(self.img_mod['filepaths']) \n",
    "# dataset.__getitem__ : "
   ]
  }
 ],
 "metadata": {
  "kernelspec": {
   "display_name": "mlcl",
   "language": "python",
   "name": "python3"
  },
  "language_info": {
   "codemirror_mode": {
    "name": "ipython",
    "version": 3
   },
   "file_extension": ".py",
   "mimetype": "text/x-python",
   "name": "python",
   "nbconvert_exporter": "python",
   "pygments_lexer": "ipython3",
   "version": "3.9.16"
  },
  "orig_nbformat": 4
 },
 "nbformat": 4,
 "nbformat_minor": 2
}
