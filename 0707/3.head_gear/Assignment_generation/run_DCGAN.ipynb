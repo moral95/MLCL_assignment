{
 "cells": [
  {
   "cell_type": "code",
   "execution_count": 7,
   "metadata": {},
   "outputs": [
    {
     "name": "stdout",
     "output_type": "stream",
     "text": [
      "/NasData/home/lsh/anaconda3/envs/mlcl/lib/python3.8/site-packages/torchvision/io/image.py:13: UserWarning: Failed to load image Python extension: '/NasData/home/lsh/anaconda3/envs/mlcl/lib/python3.8/site-packages/torchvision/image.so: undefined symbol: _ZN5torch3jit17parseSchemaOrNameERKSs'If you don't plan on using image functionality from `torchvision.io`, you can ignore this warning. Otherwise, there might be something wrong with your environment. Did you have `libjpeg` or `libpng` installed before building `torchvision` from source?\n",
      "  warn(\n",
      "We are using cpu\n",
      "Traceback (most recent call last):\n",
      "  File \"training.py\", line 235, in <module>\n",
      "    training(config)\n",
      "  File \"training.py\", line 69, in training\n",
      "    train_data = HeadGearDataset(config['paths']['annotation'], config['paths']['dataset_path'], mode='train', transform=transform)\n",
      "  File \"/NasData/home/lsh/mlcl/MLCL_2023/3_headgear/Assignment_generation/utils/dataset.py\", line 17, in __init__\n",
      "    self.image_mode = self.image(self.image['data set'] == mode)\n",
      "TypeError: 'DataFrame' object is not callable\n"
     ]
    }
   ],
   "source": [
    "!python training.py"
   ]
  },
  {
   "cell_type": "code",
   "execution_count": null,
   "metadata": {},
   "outputs": [],
   "source": []
  }
 ],
 "metadata": {
  "kernelspec": {
   "display_name": "mlcl",
   "language": "python",
   "name": "python3"
  },
  "language_info": {
   "codemirror_mode": {
    "name": "ipython",
    "version": 3
   },
   "file_extension": ".py",
   "mimetype": "text/x-python",
   "name": "python",
   "nbconvert_exporter": "python",
   "pygments_lexer": "ipython3",
   "version": "3.8.16"
  },
  "orig_nbformat": 4
 },
 "nbformat": 4,
 "nbformat_minor": 2
}
